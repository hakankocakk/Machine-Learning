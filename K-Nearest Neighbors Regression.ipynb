{
 "cells": [
  {
   "cell_type": "code",
   "execution_count": 8,
   "id": "8e9c5bc7",
   "metadata": {},
   "outputs": [],
   "source": [
    "import numpy as np\n",
    "import pandas as pd\n",
    "from sklearn.metrics import classification_report, roc_auc_score\n",
    "from sklearn.model_selection import train_test_split,GridSearchCV, cross_validate\n",
    "from sklearn.neighbors import KNeighborsClassifier\n",
    "from sklearn.preprocessing import StandardScaler\n",
    "pd.set_option('display.max_columns', None)\n",
    "pd.set_option('display.width', 500)"
   ]
  },
  {
   "cell_type": "code",
   "execution_count": 3,
   "id": "23520081",
   "metadata": {},
   "outputs": [],
   "source": [
    "df = pd.read_csv(\"datasets/diabetes.csv\")"
   ]
  },
  {
   "cell_type": "code",
   "execution_count": 5,
   "id": "5ac973b1",
   "metadata": {},
   "outputs": [
    {
     "name": "stdout",
     "output_type": "stream",
     "text": [
      " Head \n",
      "    Pregnancies  Glucose  BloodPressure  SkinThickness  Insulin   BMI  DiabetesPedigreeFunction  Age  Outcome\n",
      "0            6      148             72             35        0  33.6                     0.627   50        1\n",
      "1            1       85             66             29        0  26.6                     0.351   31        0\n",
      "2            8      183             64              0        0  23.3                     0.672   32        1\n",
      "3            1       89             66             23       94  28.1                     0.167   21        0\n",
      "4            0      137             40             35      168  43.1                     2.288   33        1\n",
      " Shape \n",
      " (768, 9)\n",
      " Describe \n",
      "                           count        mean         std     min       25%       50%        75%     max\n",
      "Pregnancies               768.0    3.845052    3.369578   0.000   1.00000    3.0000    6.00000   17.00\n",
      "Glucose                   768.0  120.894531   31.972618   0.000  99.00000  117.0000  140.25000  199.00\n",
      "BloodPressure             768.0   69.105469   19.355807   0.000  62.00000   72.0000   80.00000  122.00\n",
      "SkinThickness             768.0   20.536458   15.952218   0.000   0.00000   23.0000   32.00000   99.00\n",
      "Insulin                   768.0   79.799479  115.244002   0.000   0.00000   30.5000  127.25000  846.00\n",
      "BMI                       768.0   31.992578    7.884160   0.000  27.30000   32.0000   36.60000   67.10\n",
      "DiabetesPedigreeFunction  768.0    0.471876    0.331329   0.078   0.24375    0.3725    0.62625    2.42\n",
      "Age                       768.0   33.240885   11.760232  21.000  24.00000   29.0000   41.00000   81.00\n",
      "Outcome                   768.0    0.348958    0.476951   0.000   0.00000    0.0000    1.00000    1.00\n",
      " Value_counts \n",
      " 0    500\n",
      "1    268\n",
      "Name: Outcome, dtype: int64\n"
     ]
    }
   ],
   "source": [
    "print(f' Head \\n {df.head()}')\n",
    "print(f' Shape \\n {df.shape}')\n",
    "print(f' Describe \\n {df.describe().T}')\n",
    "print(f' Value_counts \\n {df[\"Outcome\"].value_counts()}')"
   ]
  },
  {
   "cell_type": "code",
   "execution_count": 7,
   "id": "d3de9611",
   "metadata": {},
   "outputs": [],
   "source": [
    "cols = [col for col in df.columns if col not in 'Outcome']\n",
    "\n",
    "scaler = StandardScaler()\n",
    "df[cols] = scaler.fit_transform(df[cols])"
   ]
  },
  {
   "cell_type": "code",
   "execution_count": 10,
   "id": "bd94707a",
   "metadata": {},
   "outputs": [],
   "source": [
    "y = df[\"Outcome\"]\n",
    "X = df.drop(\"Outcome\", axis=1)\n",
    "X_train, X_test, y_train, y_test = train_test_split(X, y, test_size=0.40, random_state=17)"
   ]
  },
  {
   "cell_type": "code",
   "execution_count": 12,
   "id": "31880d22",
   "metadata": {},
   "outputs": [],
   "source": [
    "knn_model = KNeighborsClassifier()\n",
    "knn_model.fit(X_train, y_train)\n",
    "predicts = knn_model.predict(X_test)"
   ]
  },
  {
   "cell_type": "code",
   "execution_count": 13,
   "id": "24280eae",
   "metadata": {},
   "outputs": [],
   "source": [
    "#random_user = X_test.sample(1)"
   ]
  },
  {
   "cell_type": "code",
   "execution_count": 15,
   "id": "2158f7f4",
   "metadata": {},
   "outputs": [
    {
     "name": "stdout",
     "output_type": "stream",
     "text": [
      "              precision    recall  f1-score   support\n",
      "\n",
      "           0       0.76      0.85      0.80       202\n",
      "           1       0.63      0.48      0.55       106\n",
      "\n",
      "    accuracy                           0.72       308\n",
      "   macro avg       0.69      0.67      0.67       308\n",
      "weighted avg       0.71      0.72      0.71       308\n",
      "\n"
     ]
    }
   ],
   "source": [
    "print(classification_report(y_test, predicts))"
   ]
  },
  {
   "cell_type": "code",
   "execution_count": 16,
   "id": "723df3ae",
   "metadata": {},
   "outputs": [
    {
     "name": "stdout",
     "output_type": "stream",
     "text": [
      "0.7481085372688212\n"
     ]
    }
   ],
   "source": [
    "y_prob = knn_model.predict_proba(X_test)[:, 1]\n",
    "print(roc_auc_score(y_test, y_prob))"
   ]
  },
  {
   "cell_type": "code",
   "execution_count": 17,
   "id": "9b95748d",
   "metadata": {},
   "outputs": [
    {
     "data": {
      "text/plain": [
       "{'fit_time': array([0.00238013, 0.0045433 , 0.00200462, 0.00149012, 0.00201297]),\n",
       " 'score_time': array([0.04173541, 0.01907802, 0.01455164, 0.01456738, 0.01405287]),\n",
       " 'test_accuracy': array([0.73913043, 0.72826087, 0.7826087 , 0.72826087, 0.72826087]),\n",
       " 'test_f1': array([0.61290323, 0.59016393, 0.65517241, 0.61538462, 0.63768116]),\n",
       " 'test_roc_auc': array([0.725     , 0.7234375 , 0.81848958, 0.80713919, 0.81997946])}"
      ]
     },
     "execution_count": 17,
     "metadata": {},
     "output_type": "execute_result"
    }
   ],
   "source": [
    "knn_model2 = KNeighborsClassifier()\n",
    "cv_result = cross_validate(knn_model2, X_train, y_train, cv=5, scoring=[\"accuracy\", \"f1\", \"roc_auc\"])\n",
    "cv_result"
   ]
  },
  {
   "cell_type": "code",
   "execution_count": 21,
   "id": "2cb177c4",
   "metadata": {},
   "outputs": [
    {
     "name": "stdout",
     "output_type": "stream",
     "text": [
      "test_accuracy \n",
      " 0.7413043478260869\n",
      "test_f1 \n",
      " 0.6222610697661379\n",
      "test_roc_auc \n",
      " 0.778809145480226\n"
     ]
    }
   ],
   "source": [
    "print(f\"test_accuracy \\n {cv_result['test_accuracy'].mean()}\")\n",
    "print(f\"test_f1 \\n {cv_result['test_f1'].mean()}\")\n",
    "print(f\"test_roc_auc \\n {cv_result['test_roc_auc'].mean()}\")"
   ]
  },
  {
   "cell_type": "code",
   "execution_count": 23,
   "id": "b8cc4ad2",
   "metadata": {},
   "outputs": [
    {
     "data": {
      "text/plain": [
       "{'algorithm': 'auto',\n",
       " 'leaf_size': 30,\n",
       " 'metric': 'minkowski',\n",
       " 'metric_params': None,\n",
       " 'n_jobs': None,\n",
       " 'n_neighbors': 5,\n",
       " 'p': 2,\n",
       " 'weights': 'uniform'}"
      ]
     },
     "execution_count": 23,
     "metadata": {},
     "output_type": "execute_result"
    }
   ],
   "source": [
    "#Hyperparameter Optimization\n",
    "knn_model3 = KNeighborsClassifier()\n",
    "knn_model.get_params()"
   ]
  },
  {
   "cell_type": "code",
   "execution_count": 24,
   "id": "e2282b4b",
   "metadata": {},
   "outputs": [],
   "source": [
    "knn_params = {\"n_neighbors\": range(2,50)}"
   ]
  },
  {
   "cell_type": "code",
   "execution_count": 25,
   "id": "574cd7f3",
   "metadata": {},
   "outputs": [
    {
     "name": "stdout",
     "output_type": "stream",
     "text": [
      "Fitting 5 folds for each of 48 candidates, totalling 240 fits\n"
     ]
    }
   ],
   "source": [
    "knn_gs_best = GridSearchCV(knn_model3, knn_params, cv=5, n_jobs=-1, verbose=1).fit(X_train, y_train)"
   ]
  },
  {
   "cell_type": "code",
   "execution_count": 27,
   "id": "ce5a597b",
   "metadata": {},
   "outputs": [
    {
     "data": {
      "text/plain": [
       "{'n_neighbors': 24}"
      ]
     },
     "execution_count": 27,
     "metadata": {},
     "output_type": "execute_result"
    }
   ],
   "source": [
    "knn_gs_best.best_params_"
   ]
  },
  {
   "cell_type": "code",
   "execution_count": 32,
   "id": "9d53ea5e",
   "metadata": {},
   "outputs": [
    {
     "name": "stdout",
     "output_type": "stream",
     "text": [
      "test_accuracy \n",
      " 0.7782608695652175\n",
      "test_f1 \n",
      " 0.6179515084722415\n",
      "test_roc_auc \n",
      " 0.8356916891371341\n"
     ]
    }
   ],
   "source": [
    "knn_model4 = KNeighborsClassifier()\n",
    "knn_final = knn_model4.set_params(**knn_gs_best.best_params_)\n",
    "\n",
    "cv_results = cross_validate(knn_final,\n",
    "                            X_train,\n",
    "                            y_train,\n",
    "                            cv=5,\n",
    "                            scoring=[\"accuracy\", \"f1\", \"roc_auc\"])\n",
    "\n",
    "print(f\"test_accuracy \\n {cv_results['test_accuracy'].mean()}\")\n",
    "print(f\"test_f1 \\n {cv_results['test_f1'].mean()}\")\n",
    "print(f\"test_roc_auc \\n {cv_results['test_roc_auc'].mean()}\")"
   ]
  },
  {
   "cell_type": "code",
   "execution_count": null,
   "id": "408ac00b",
   "metadata": {},
   "outputs": [],
   "source": []
  }
 ],
 "metadata": {
  "kernelspec": {
   "display_name": "Python 3 (ipykernel)",
   "language": "python",
   "name": "python3"
  },
  "language_info": {
   "codemirror_mode": {
    "name": "ipython",
    "version": 3
   },
   "file_extension": ".py",
   "mimetype": "text/x-python",
   "name": "python",
   "nbconvert_exporter": "python",
   "pygments_lexer": "ipython3",
   "version": "3.11.4"
  }
 },
 "nbformat": 4,
 "nbformat_minor": 5
}
